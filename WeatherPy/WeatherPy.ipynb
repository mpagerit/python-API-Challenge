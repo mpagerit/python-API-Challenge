{
 "cells": [
  {
   "cell_type": "code",
   "execution_count": null,
   "metadata": {},
   "outputs": [],
   "source": [
    "# Dependencies and Setup\n",
    "\n",
    "import matplotlib.pyplot as plt\n",
    "import requests\n",
    "import pandas as pd\n",
    "import numpy as np\n",
    "import random\n",
    "import time\n",
    "from scipy import stats\n",
    "from pprint import pprint\n",
    "from time import sleep\n",
    "\n",
    "#import weather API Key\n",
    "from config import api_key\n",
    "\n",
    "#Use citipy to find city based on Latitude and Longitude\n",
    "from citipy import citipy \n"
   ]
  },
  {
   "cell_type": "markdown",
   "metadata": {},
   "source": [
    "# Generate the List of Cities"
   ]
  },
  {
   "cell_type": "code",
   "execution_count": null,
   "metadata": {},
   "outputs": [],
   "source": [
    "# generate the list of coordinates used to find cities\n",
    "\n",
    "#set the desired number of cities\n",
    "num_cities = 10\n",
    "\n",
    "#set the lists for latitude and longitude\n",
    "lat = []\n",
    "lng = []\n",
    "\n",
    "#it is possible that duplicate coordinates may be generated, or unique coordinates may lead to duplicate cities.\n",
    "# this buffer will allow the dataset to drop duplicates while still generating enough coordinates for the search.\n",
    "coordinate_buffer = 5\n",
    "\n",
    "lat = np.random.uniform(low=-90.000, high=90.000, size=num_cities*coordinate_buffer)\n",
    "lng = np.random.uniform(low=-180.000, high=180.000, size=num_cities*coordinate_buffer)\n",
    "\n",
    "#zip the latitudes and longitudes into a list of tuples to look up values in citipy\n",
    "coordinates = list(zip(lat, lng))"
   ]
  },
  {
   "cell_type": "code",
   "execution_count": null,
   "metadata": {},
   "outputs": [],
   "source": [
    "# generate the list of cities using coordinates\n",
    "cities = []\n",
    "\n",
    "#buffer for num_cities in case some cities aren't in the weather database. \n",
    "# num_cities will be muliplied by the buffer to ensure there are enough data points even if some cities cannot be found.\n",
    "buffer = 1.4\n",
    "\n",
    "#find cities that match coordinates in citipy:\n",
    "for coordinate in coordinates:\n",
    "    city = citipy.nearest_city(coordinate[0], coordinate[1]).city_name\n",
    "    \n",
    "    #add to the list of cities only if it is not a duplicate\n",
    "    if city not in cities:\n",
    "        cities.append(city)\n",
    "    \n",
    "    #stop looking up cities by coordinates if the list is long enough.\n",
    "#     if len(cities) == num_cities*buffer:\n",
    "#         print(f'The list now has {num_cities*buffer} cities:')\n",
    "#         break"
   ]
  },
  {
   "cell_type": "markdown",
   "metadata": {},
   "source": [
    "# Search for the Cities"
   ]
  },
  {
   "cell_type": "code",
   "execution_count": null,
   "metadata": {},
   "outputs": [],
   "source": [
    "# set url and units for search query\n",
    "\n",
    "url = \"http://api.openweathermap.org/data/2.5/weather?\"\n",
    "units = \"imperial\"\n",
    "\n",
    "# Build partial query URL\n",
    "query_url = f\"{url}appid={api_key}&units={units}&q=\"\n",
    "\n"
   ]
  },
  {
   "cell_type": "code",
   "execution_count": null,
   "metadata": {
    "scrolled": true
   },
   "outputs": [],
   "source": [
    "\n",
    "#save the following values for each city: \n",
    "# Temperature, % Humidity, % Cloudiness, Wind speed MPH\n",
    "cityList = []\n",
    "temp = []\n",
    "humid = []\n",
    "cloud = []\n",
    "wind = []\n",
    "newlat = []\n",
    "newlong = []\n",
    "count = 0\n",
    "\n",
    "# loop through each city\n",
    "for city in cities:\n",
    "    \n",
    "#     create a search query, make request and store in json\n",
    "    full_query = query_url + city\n",
    "    response = requests.get(full_query)\n",
    "    weather_data = response.json()\n",
    "    print(response.url)\n",
    "# check to see if the city is in the database. If not, move on to the next city in the list.\n",
    "    try: \n",
    "        # if there is a match, add the needed information to each list\n",
    "        newlat.append(weather_data['coord']['lat'])  \n",
    "        newlong.append(weather_data['coord']['lon'])\n",
    "        temp.append(weather_data['main']['temp'])\n",
    "        humid.append(weather_data['main']['humidity'])\n",
    "        wind.append(weather_data['wind']['speed'])\n",
    "        cloud.append(weather_data['clouds']['all'])\n",
    "        cityList.append(weather_data['name'])\n",
    "        count = count + 1\n",
    "        print(f'{count}. {city} data has been saved.')\n",
    "#         if count == num_cities:\n",
    "#             break\n",
    "#     if there isn't a match, move on to the next city\n",
    "    except:\n",
    "        print(f'{city} could not be found. Trying next city')\n",
    "    sleep(1)  \n"
   ]
  },
  {
   "cell_type": "code",
   "execution_count": null,
   "metadata": {},
   "outputs": [],
   "source": [
    "# #create a data frame from cities, temp, humid, cloud, and wind\n",
    "weatherInfoDict = {\n",
    "    \"City\":cityList,\n",
    "    \"Latitude\":newlat,\n",
    "    \"Longintude\":newlong, \n",
    "    \"Temperature (F)\":temp,\n",
    "    \"% Humidity\":humid,\n",
    "    \"% Cloud Cover\":cloud,\n",
    "    \"Wind Speed (MPH)\":wind\n",
    "}\n",
    "\n",
    "weatherDF = pd.DataFrame(weatherInfoDict)\n",
    "weatherDF.head()"
   ]
  },
  {
   "cell_type": "markdown",
   "metadata": {},
   "source": [
    "# Scatter Plot Function"
   ]
  },
  {
   "cell_type": "code",
   "execution_count": null,
   "metadata": {},
   "outputs": [],
   "source": [
    "# create a function for scatter plots\n",
    "def plotFunc(x_values, y_values):\n",
    "    #create plot\n",
    "    plt.figure(figsize=(6, 4), dpi=80)\n",
    "    plt.scatter(x_values, y_values)\n"
   ]
  },
  {
   "cell_type": "markdown",
   "metadata": {},
   "source": [
    "# Linear Regression Plot Function"
   ]
  },
  {
   "cell_type": "code",
   "execution_count": null,
   "metadata": {},
   "outputs": [],
   "source": [
    "#optional: create a function that writes linear regression plots\n",
    "def linRegressFunc(x_values, y_values):\n",
    "    (slope, intercept, rvalue, pvalue, stderr) = stats.linregress(x_values, y_values)\n",
    "    regress_values = x_values * slope + intercept\n",
    "    \n",
    "    #create plot\n",
    "    plt.figure(figsize=(6, 4), dpi=80)\n",
    "    plt.scatter(x_values, y_values)\n",
    "    plt.plot(x_values, regress_values, \"r-\")\n",
    "    \n",
    "    #create line equation and annotate\n",
    "    line_eq = \"y = \" + str(round(slope,2)) + \"x + \" + str(round(intercept,2))\n",
    "    plt.annotate(line_eq, (x_values.min(), y_values.min()), fontsize=15,color=\"red\")\n",
    "\n",
    "    \n",
    "    #calculate and print r squared to determine strength of correlation\n",
    "    print(f'The r-squared is: {rvalue**2}')"
   ]
  },
  {
   "cell_type": "markdown",
   "metadata": {},
   "source": [
    "# Temperature vs. Latitude\n",
    "Worldwide plot and both regressions"
   ]
  },
  {
   "cell_type": "code",
   "execution_count": null,
   "metadata": {},
   "outputs": [],
   "source": [
    "#First plot - Temperature vs. Latitude\n",
    "\n",
    "#call the scatter plot function\n",
    "plotFunc(weatherDF[\"Latitude\"], weatherDF['Temperature (F)'])\n",
    "\n",
    "#label the axes and create title\n",
    "plt.xlabel(\"Latitude\")\n",
    "plt.ylabel(\"Temperature (F)\")\n",
    "plt.title(\"Temperature vs. Latitude - Worldwide\")\n",
    "\n",
    "#save chart as png\n",
    "plt.savefig(\"images/Temp_vs_Lat_All.png\")\n",
    "\n",
    "plt.show()"
   ]
  },
  {
   "cell_type": "code",
   "execution_count": null,
   "metadata": {},
   "outputs": [],
   "source": [
    "#Northern Hemisphere - Temperature vs. latitude\n",
    "\n",
    "#filter for values in the northern hemisphere\n",
    "northDF = weatherDF.loc[weatherDF[\"Latitude\"] > 0]\n",
    "\n",
    "linRegressFunc(northDF[\"Latitude\"], northDF['Temperature (F)'])\n",
    "\n",
    "# label axes and add title\n",
    "plt.xlabel(\"Latitude\")\n",
    "plt.ylabel(\"Temperature (F)\")\n",
    "plt.title(\"Temperature vs. Latitude - Northern Hemisphere\")\n",
    "\n",
    "#save plot as png\n",
    "plt.savefig(\"images/Temp_vs_Lat_North.png\")\n",
    "\n",
    "plt.show()"
   ]
  },
  {
   "cell_type": "code",
   "execution_count": null,
   "metadata": {},
   "outputs": [],
   "source": [
    "#Southern Hemisphere - Temperature vs. latitude\n",
    "\n",
    "#filter for values in the southern hemisphere\n",
    "southDF = weatherDF.loc[weatherDF[\"Latitude\"] < 0]\n",
    "\n",
    "linRegressFunc(southDF[\"Latitude\"], southDF['Temperature (F)'])\n",
    "\n",
    "# label axes and add title\n",
    "plt.xlabel(\"Latitude\")\n",
    "plt.ylabel(\"Temperature (F)\")\n",
    "plt.title(\"Temperature vs. Latitude - Southern Hemisphere\")\n",
    "\n",
    "#save plot as png\n",
    "plt.savefig(\"images/Temp_vs_Lat_South.png\")\n",
    "\n",
    "plt.show()"
   ]
  },
  {
   "cell_type": "markdown",
   "metadata": {},
   "source": [
    "# % Humidity vs. Latitude\n",
    "Worldwide plot and both regressions"
   ]
  },
  {
   "cell_type": "code",
   "execution_count": null,
   "metadata": {},
   "outputs": [],
   "source": [
    "#Second plot - Humidity (%) vs. Latitude\n",
    "\n",
    "#call the scatter plot function\n",
    "plotFunc(weatherDF[\"Latitude\"], weatherDF['% Humidity'])\n",
    "\n",
    "#label the axes and create title\n",
    "plt.xlabel(\"Latitude\")\n",
    "plt.ylabel(\"% Humidity\")\n",
    "plt.title(\"% Humidity vs. Latitude - Worldwide\")\n",
    "\n",
    "#save chart as png\n",
    "plt.savefig(\"images/Humid_vs_Lat_All.png\")\n",
    "\n",
    "plt.show()"
   ]
  },
  {
   "cell_type": "code",
   "execution_count": null,
   "metadata": {},
   "outputs": [],
   "source": [
    "# Humidity (%) vs. Latitude Northern Hemisphere\n",
    "\n",
    "#call the linear regresssion plot function\n",
    "linRegressFunc(northDF[\"Latitude\"], northDF['% Humidity'])\n",
    "\n",
    "#label the axes and create title\n",
    "plt.xlabel(\"Latitude\")\n",
    "plt.ylabel(\"% Humidity\")\n",
    "plt.title(\"% Humidity vs. Latitude - Northern Hemisphere\")\n",
    "\n",
    "#save chart as png\n",
    "plt.savefig(\"images/Humid_vs_Lat_North.png\")\n",
    "\n",
    "plt.show()"
   ]
  },
  {
   "cell_type": "code",
   "execution_count": null,
   "metadata": {},
   "outputs": [],
   "source": [
    "# Humidity (%) vs. Latitude Southern Hemisphere\n",
    "\n",
    "#call the linear regresssion plot function\n",
    "linRegressFunc(southDF[\"Latitude\"], southDF['% Humidity'])\n",
    "\n",
    "#label the axes and create title\n",
    "plt.xlabel(\"Latitude\")\n",
    "plt.ylabel(\"% Humidity\")\n",
    "plt.title(\"% Humidity vs. Latitude - Southern Hemisphere\")\n",
    "\n",
    "#save chart as png\n",
    "plt.savefig(\"images/Humid_vs_Lat_South.png\")\n",
    "\n",
    "plt.show()"
   ]
  },
  {
   "cell_type": "markdown",
   "metadata": {},
   "source": [
    "# Cloudiness (%) vs. Latitude\n",
    "Worldwide plot and both regressions"
   ]
  },
  {
   "cell_type": "code",
   "execution_count": null,
   "metadata": {},
   "outputs": [],
   "source": [
    "#Third plot - Cloudiness (%) vs. Latitude\n",
    "\n",
    "#call the scatter plot function\n",
    "plotFunc(weatherDF[\"Latitude\"], weatherDF['% Cloud Cover'])\n",
    "\n",
    "#label the axes and create title\n",
    "plt.xlabel(\"Latitude\")\n",
    "plt.ylabel(\"% Cloud Cover\")\n",
    "plt.title(\"% Cloud Cover vs. Latitude - Worldwide\")\n",
    "\n",
    "#save chart as png\n",
    "plt.savefig(\"images/Cloud_vs_Lat_All.png\")\n",
    "\n",
    "plt.show()"
   ]
  },
  {
   "cell_type": "code",
   "execution_count": null,
   "metadata": {},
   "outputs": [],
   "source": [
    "# Cloudiness (%) vs. Latitude - Northern Hemisphere\n",
    "\n",
    "#call the linear regresssion plot function\n",
    "linRegressFunc(northDF[\"Latitude\"], northDF['% Cloud Cover'])\n",
    "\n",
    "#label the axes and create title\n",
    "plt.xlabel(\"Latitude\")\n",
    "plt.ylabel(\"% Cloud Cover\")\n",
    "plt.title(\"% Cloud Cover vs. Latitude - Northern Hemisphere\")\n",
    "\n",
    "#save chart as png\n",
    "plt.savefig(\"images/Cloud_vs_Lat_North.png\")\n",
    "\n",
    "plt.show()"
   ]
  },
  {
   "cell_type": "code",
   "execution_count": null,
   "metadata": {},
   "outputs": [],
   "source": [
    "# Cloudiness (%) vs. Latitude - Southern Hemisphere\n",
    "\n",
    "#call the linear regresssion plot function\n",
    "linRegressFunc(southDF[\"Latitude\"], southDF['% Cloud Cover'])\n",
    "\n",
    "#label the axes and create title\n",
    "plt.xlabel(\"Latitude\")\n",
    "plt.ylabel(\"% Cloud Cover\")\n",
    "plt.title(\"% Cloud Cover vs. Latitude - Southern Hemisphere\")\n",
    "\n",
    "#save chart as png\n",
    "plt.savefig(\"images/Cloud_vs_Lat_South.png\")\n",
    "\n",
    "plt.show()"
   ]
  },
  {
   "cell_type": "markdown",
   "metadata": {},
   "source": [
    "# Wind Speed vs. Latitude\n",
    "Worldwide plot and both regressions"
   ]
  },
  {
   "cell_type": "code",
   "execution_count": null,
   "metadata": {},
   "outputs": [],
   "source": [
    "#Fourth Plot - Wind Speed (mph) vs. Latitude\n",
    "\n",
    "#call the scatter plot function\n",
    "plotFunc(weatherDF[\"Latitude\"], weatherDF['Wind Speed (MPH)'])\n",
    "\n",
    "#label the axes and create title\n",
    "plt.xlabel(\"Latitude\")\n",
    "plt.ylabel(\"Wind Speed (MPH)\")\n",
    "plt.title(\"Wind Speed (MPH) vs. Latitude - Worldwide\")\n",
    "\n",
    "#save chart as png\n",
    "plt.savefig(\"images/Wind_vs_Lat_All.png\")\n",
    "\n",
    "plt.show()\n"
   ]
  },
  {
   "cell_type": "code",
   "execution_count": null,
   "metadata": {},
   "outputs": [],
   "source": [
    "# Wind Speed (mph) vs. Latitude Northern Hemisphere\n",
    "\n",
    "#call the linear regresssion plot function\n",
    "linRegressFunc(northDF[\"Latitude\"], northDF['Wind Speed (MPH)'])\n",
    "\n",
    "#label the axes and create title\n",
    "plt.xlabel(\"Latitude\")\n",
    "plt.ylabel(\"Wind Speed (MPH)\")\n",
    "plt.title(\"Wind Speed (MPH) vs. Latitude - Northern Hemisphere\")\n",
    "\n",
    "#save chart as png\n",
    "plt.savefig(\"images/Wind_vs_Lat_North.png\")\n",
    "\n",
    "plt.show()"
   ]
  },
  {
   "cell_type": "code",
   "execution_count": null,
   "metadata": {},
   "outputs": [],
   "source": [
    "# Wind Speed (mph) vs. Latitude Southern Hemisphere\n",
    "\n",
    "#call the linear regresssion plot function\n",
    "linRegressFunc(southDF[\"Latitude\"], southDF['Wind Speed (MPH)'])\n",
    "\n",
    "#label the axes and create title\n",
    "plt.xlabel(\"Latitude\")\n",
    "plt.ylabel(\"Wind Speed (MPH)\")\n",
    "plt.title(\"Wind Speed (MPH) vs. Latitude - Southern Hemisphere\")\n",
    "\n",
    "#save chart as png\n",
    "plt.savefig(\"images/Wind_vs_Lat_South.png\")\n",
    "\n",
    "plt.show()"
   ]
  },
  {
   "cell_type": "code",
   "execution_count": null,
   "metadata": {},
   "outputs": [],
   "source": [
    "#save all data in a CSV\n",
    "weatherDF.to_csv('../data/weather_data.csv', encoding='utf-8', index=False)"
   ]
  },
  {
   "cell_type": "code",
   "execution_count": null,
   "metadata": {},
   "outputs": [],
   "source": []
  },
  {
   "cell_type": "code",
   "execution_count": null,
   "metadata": {},
   "outputs": [],
   "source": []
  }
 ],
 "metadata": {
  "kernelspec": {
   "display_name": "Python 3",
   "language": "python",
   "name": "python3"
  },
  "language_info": {
   "codemirror_mode": {
    "name": "ipython",
    "version": 3
   },
   "file_extension": ".py",
   "mimetype": "text/x-python",
   "name": "python",
   "nbconvert_exporter": "python",
   "pygments_lexer": "ipython3",
   "version": "3.6.10"
  }
 },
 "nbformat": 4,
 "nbformat_minor": 4
}
